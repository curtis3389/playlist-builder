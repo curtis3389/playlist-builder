{
 "cells": [
  {
   "cell_type": "markdown",
   "id": "172ec945-c766-4852-9cf5-1b4d5a99259e",
   "metadata": {},
   "source": [
    "# 1. Load libraries"
   ]
  },
  {
   "cell_type": "code",
   "execution_count": 1,
   "id": "3928a5de-bb5a-491c-a666-33062811aa5e",
   "metadata": {},
   "outputs": [],
   "source": [
    "import spotipy, pandas as pd\n",
    "from spotipy.oauth2 import SpotifyOAuth\n",
    "from sklearn import preprocessing as pre\n",
    "from sklearn.cluster import KMeans\n",
    "from sklearn.metrics import silhouette_score\n",
    "import seaborn as sns\n",
    "from itertools import combinations\n",
    "import sys\n",
    "\n",
    "if not sys.warnoptions:\n",
    "    import warnings\n",
    "    warnings.simplefilter(\"ignore\")"
   ]
  },
  {
   "cell_type": "markdown",
   "id": "3082adcf-6a66-41ff-a787-36cf8159bb3d",
   "metadata": {},
   "source": [
    "# 2. Spotify authorization and some sample playlists to play around with\n",
    "\n",
    "##### If you want to run all this analysis with your own playlist and play around with choosing features, just replace the playlist url with one to your playlist."
   ]
  },
  {
   "cell_type": "code",
   "execution_count": 2,
   "id": "583d5694-1765-4f1e-bbc9-76417ec3305d",
   "metadata": {
    "tags": []
   },
   "outputs": [],
   "source": [
    "scope = 'playlist-modify-public playlist-modify-private'\n",
    "red_url = 'http://localhost:8080'\n",
    "playlist = 'https://open.spotify.com/playlist/1Iy9WMwbPSJ7FiOUAsfWxC?si=02f0d2f4b50046e9'\n",
    "\n",
    "sp = spotipy.Spotify(auth_manager=SpotifyOAuth(redirect_uri=red_url,scope=scope))\n",
    "user = sp.me()['id']"
   ]
  },
  {
   "cell_type": "markdown",
   "id": "120d5030-9987-4bdb-982c-e36a0d885f56",
   "metadata": {},
   "source": [
    "# 3. Song and feature extraction"
   ]
  },
  {
   "cell_type": "markdown",
   "id": "2144260e-fd5a-44fb-9cb8-8b2a60e88d66",
   "metadata": {},
   "source": [
    "##### sp.playlist_tracks returns json-formatted information about the songs in a playlist, up to 100 at a time\n",
    "##### sp.audio_features returns json-formatted audio features about a list of songs, up to 50 at a time"
   ]
  },
  {
   "cell_type": "code",
   "execution_count": 3,
   "id": "f1c57877-892b-47f7-be8c-cd9fcab95382",
   "metadata": {
    "tags": []
   },
   "outputs": [],
   "source": [
    "offset = 0\n",
    "song_ids = []\n",
    "while True:\n",
    "    songs = sp.playlist_tracks(playlist_id=playlist, offset=offset, fields='items.track.id', limit=100)['items']\n",
    "    if len(songs) == 0:\n",
    "        break\n",
    "    song_ids += [d['track']['id'] for d in songs]\n",
    "    offset += len(songs)"
   ]
  },
  {
   "cell_type": "code",
   "execution_count": 4,
   "id": "b501d9fd-7b3d-4b55-8281-f30b4a4ec425",
   "metadata": {
    "tags": []
   },
   "outputs": [],
   "source": [
    "offset = 0\n",
    "limit = 50\n",
    "song_feats = []\n",
    "while offset < len(song_ids):\n",
    "    song_feats += sp.audio_features(tracks=song_ids[offset: offset + limit])\n",
    "    offset += limit"
   ]
  },
  {
   "cell_type": "code",
   "execution_count": 5,
   "id": "bc554d43-229a-46f2-956d-54f642910ea2",
   "metadata": {
    "tags": []
   },
   "outputs": [],
   "source": [
    "df_feats = pd.DataFrame(song_feats).drop(['type', 'uri', 'track_href', 'analysis_url', 'duration_ms', 'key', 'time_signature', 'mode'], axis=1)"
   ]
  },
  {
   "cell_type": "markdown",
   "id": "27a9b77a-4e0c-4234-b372-3b3cac3dd791",
   "metadata": {},
   "source": [
    "##### Descriptive statistics are below. Many features, like instrumentalness, have significantly larger standard deviations than meeans. This comes from the fact that most songs are clustered near values of 0 or 1. These features are designed by Spotify to capture whether or not something is true of the song, i.e. if it contains no vocals, was performed live, or is acoustic. This allows clusters based on these features to have very high silhouette scores, but the playlists these clusters create have songs grouped in ways that would not make sense to a human listener. I have alrady dropped mode, which denotes whether a song is in a [Major or Minor key](https://en.wikipedia.org/wiki/Major_and_minor), for being a binary variable. Going forward, I will also be dropping variables whose values are clustered near 0 and 1 and as such act as binary variables. For a more detailed explanation of audio features, see [Spotify's documentation](https://developer.spotify.com/documentation/web-api/reference/get-several-audio-features).\n",
    "\n",
    "###### Of minor note, the difference between major and minor keys is a distinction largely unique to Western music; other musical traditions have different ways of distinguishing scales/modes. So in addition to mode being a bad statistic to use because it does too god a job of grouping songs into two groups, it would also struggle with non-Western music."
   ]
  },
  {
   "cell_type": "code",
   "execution_count": 6,
   "id": "a10711ed-c46c-466d-ad42-25f4766d3c6d",
   "metadata": {
    "tags": []
   },
   "outputs": [
    {
     "data": {
      "text/html": [
       "<div>\n",
       "<style scoped>\n",
       "    .dataframe tbody tr th:only-of-type {\n",
       "        vertical-align: middle;\n",
       "    }\n",
       "\n",
       "    .dataframe tbody tr th {\n",
       "        vertical-align: top;\n",
       "    }\n",
       "\n",
       "    .dataframe thead th {\n",
       "        text-align: right;\n",
       "    }\n",
       "</style>\n",
       "<table border=\"1\" class=\"dataframe\">\n",
       "  <thead>\n",
       "    <tr style=\"text-align: right;\">\n",
       "      <th></th>\n",
       "      <th>danceability</th>\n",
       "      <th>energy</th>\n",
       "      <th>loudness</th>\n",
       "      <th>speechiness</th>\n",
       "      <th>acousticness</th>\n",
       "      <th>instrumentalness</th>\n",
       "      <th>liveness</th>\n",
       "      <th>valence</th>\n",
       "      <th>tempo</th>\n",
       "    </tr>\n",
       "  </thead>\n",
       "  <tbody>\n",
       "    <tr>\n",
       "      <th>count</th>\n",
       "      <td>493.000000</td>\n",
       "      <td>493.000000</td>\n",
       "      <td>493.000000</td>\n",
       "      <td>493.000000</td>\n",
       "      <td>493.000000</td>\n",
       "      <td>493.000000</td>\n",
       "      <td>493.000000</td>\n",
       "      <td>493.000000</td>\n",
       "      <td>493.000000</td>\n",
       "    </tr>\n",
       "    <tr>\n",
       "      <th>mean</th>\n",
       "      <td>0.650574</td>\n",
       "      <td>0.600296</td>\n",
       "      <td>-7.282487</td>\n",
       "      <td>0.142464</td>\n",
       "      <td>0.241101</td>\n",
       "      <td>0.040276</td>\n",
       "      <td>0.191807</td>\n",
       "      <td>0.454867</td>\n",
       "      <td>120.172363</td>\n",
       "    </tr>\n",
       "    <tr>\n",
       "      <th>std</th>\n",
       "      <td>0.161634</td>\n",
       "      <td>0.183476</td>\n",
       "      <td>3.025320</td>\n",
       "      <td>0.121997</td>\n",
       "      <td>0.264688</td>\n",
       "      <td>0.169732</td>\n",
       "      <td>0.146155</td>\n",
       "      <td>0.208842</td>\n",
       "      <td>30.459716</td>\n",
       "    </tr>\n",
       "    <tr>\n",
       "      <th>min</th>\n",
       "      <td>0.210000</td>\n",
       "      <td>0.012200</td>\n",
       "      <td>-28.906000</td>\n",
       "      <td>0.023500</td>\n",
       "      <td>0.000068</td>\n",
       "      <td>0.000000</td>\n",
       "      <td>0.040400</td>\n",
       "      <td>0.032400</td>\n",
       "      <td>59.850000</td>\n",
       "    </tr>\n",
       "    <tr>\n",
       "      <th>25%</th>\n",
       "      <td>0.539000</td>\n",
       "      <td>0.476000</td>\n",
       "      <td>-8.685000</td>\n",
       "      <td>0.044000</td>\n",
       "      <td>0.031700</td>\n",
       "      <td>0.000000</td>\n",
       "      <td>0.101000</td>\n",
       "      <td>0.296000</td>\n",
       "      <td>94.997000</td>\n",
       "    </tr>\n",
       "    <tr>\n",
       "      <th>50%</th>\n",
       "      <td>0.653000</td>\n",
       "      <td>0.619000</td>\n",
       "      <td>-6.737000</td>\n",
       "      <td>0.090600</td>\n",
       "      <td>0.136000</td>\n",
       "      <td>0.000000</td>\n",
       "      <td>0.131000</td>\n",
       "      <td>0.446000</td>\n",
       "      <td>118.963000</td>\n",
       "    </tr>\n",
       "    <tr>\n",
       "      <th>75%</th>\n",
       "      <td>0.779000</td>\n",
       "      <td>0.743000</td>\n",
       "      <td>-5.212000</td>\n",
       "      <td>0.220000</td>\n",
       "      <td>0.371000</td>\n",
       "      <td>0.000084</td>\n",
       "      <td>0.249000</td>\n",
       "      <td>0.613000</td>\n",
       "      <td>139.956000</td>\n",
       "    </tr>\n",
       "    <tr>\n",
       "      <th>max</th>\n",
       "      <td>0.958000</td>\n",
       "      <td>0.946000</td>\n",
       "      <td>-1.218000</td>\n",
       "      <td>0.558000</td>\n",
       "      <td>0.992000</td>\n",
       "      <td>0.946000</td>\n",
       "      <td>0.900000</td>\n",
       "      <td>0.916000</td>\n",
       "      <td>205.863000</td>\n",
       "    </tr>\n",
       "  </tbody>\n",
       "</table>\n",
       "</div>"
      ],
      "text/plain": [
       "       danceability      energy    loudness  speechiness  acousticness  \\\n",
       "count    493.000000  493.000000  493.000000   493.000000    493.000000   \n",
       "mean       0.650574    0.600296   -7.282487     0.142464      0.241101   \n",
       "std        0.161634    0.183476    3.025320     0.121997      0.264688   \n",
       "min        0.210000    0.012200  -28.906000     0.023500      0.000068   \n",
       "25%        0.539000    0.476000   -8.685000     0.044000      0.031700   \n",
       "50%        0.653000    0.619000   -6.737000     0.090600      0.136000   \n",
       "75%        0.779000    0.743000   -5.212000     0.220000      0.371000   \n",
       "max        0.958000    0.946000   -1.218000     0.558000      0.992000   \n",
       "\n",
       "       instrumentalness    liveness     valence       tempo  \n",
       "count        493.000000  493.000000  493.000000  493.000000  \n",
       "mean           0.040276    0.191807    0.454867  120.172363  \n",
       "std            0.169732    0.146155    0.208842   30.459716  \n",
       "min            0.000000    0.040400    0.032400   59.850000  \n",
       "25%            0.000000    0.101000    0.296000   94.997000  \n",
       "50%            0.000000    0.131000    0.446000  118.963000  \n",
       "75%            0.000084    0.249000    0.613000  139.956000  \n",
       "max            0.946000    0.900000    0.916000  205.863000  "
      ]
     },
     "execution_count": 6,
     "metadata": {},
     "output_type": "execute_result"
    }
   ],
   "source": [
    "df_feats.describe()"
   ]
  },
  {
   "cell_type": "markdown",
   "id": "d36ff4e5-0e76-412b-b597-e7297da00796",
   "metadata": {},
   "source": [
    "##### As a brief note, features already normed by Spotify like \"energy\" and \"valence\" are also normed below, as all songs spotify has being normed on these features does not guarantee an even distribution in the inputted playlist."
   ]
  },
  {
   "cell_type": "code",
   "execution_count": 7,
   "id": "4f7a21f6-84ce-4a1d-b23f-f85a70d02085",
   "metadata": {},
   "outputs": [],
   "source": [
    "df_feats.drop(['speechiness', 'instrumentalness', 'liveness', 'acousticness'], axis=1, inplace=True)"
   ]
  },
  {
   "cell_type": "code",
   "execution_count": 8,
   "id": "acb27b7a-5096-40c5-ad91-9218de9114f3",
   "metadata": {
    "tags": []
   },
   "outputs": [],
   "source": [
    "to_norm = df_feats[['loudness', 'tempo', 'danceability', 'energy', 'valence']].values\n",
    "scaler = pre.MinMaxScaler()\n",
    "normed = scaler.fit_transform(to_norm)\n",
    "df_normed = pd.DataFrame(normed).rename(columns={0: 'loudness', 1: 'tempo', 2: 'danceability', 3: 'energy', 4: 'valence'})"
   ]
  },
  {
   "cell_type": "code",
   "execution_count": 9,
   "id": "35590492-f7da-442c-b1ae-7c426fd88c91",
   "metadata": {},
   "outputs": [],
   "source": [
    "df_feats.drop(['loudness', 'tempo', 'danceability', 'energy', 'valence'], axis=1, inplace=True)"
   ]
  },
  {
   "cell_type": "code",
   "execution_count": 10,
   "id": "389769e1-feed-4b89-a16d-8f1839260e09",
   "metadata": {
    "tags": []
   },
   "outputs": [],
   "source": [
    "# We need the dataframe with the ids preserved later for playlist creation, and create one with song ids as the index for purposes of clustering\n",
    "df_total = df_feats.join(df_normed)\n",
    "df_feats = df_total.set_index('id')"
   ]
  },
  {
   "cell_type": "markdown",
   "id": "097b28d9-500e-4bd0-ac15-e93a8577f7cd",
   "metadata": {},
   "source": [
    "# 4. Choosing features to cluster on"
   ]
  },
  {
   "cell_type": "markdown",
   "id": "3a6228eb-7fbd-46b5-aae2-46dbcafb6176",
   "metadata": {},
   "source": [
    "##### I create a correlations heatmap below. Of note here is the extremely high correlation between energy and loudness. I decided to drop loudness, as I did not want playlists sorted by the average decibals in a song."
   ]
  },
  {
   "cell_type": "code",
   "execution_count": 11,
   "id": "a2f4c704-a7d7-4921-a94c-ee769b90a57a",
   "metadata": {
    "tags": []
   },
   "outputs": [
    {
     "data": {
      "text/plain": [
       "<AxesSubplot:>"
      ]
     },
     "execution_count": 11,
     "metadata": {},
     "output_type": "execute_result"
    },
    {
     "data": {
      "image/png": "[encoded data removed]",
      "text/plain": [
       "<Figure size 640x480 with 2 Axes>"
      ]
     },
     "metadata": {},
     "output_type": "display_data"
    }
   ],
   "source": [
    "sns.heatmap(df_feats.corr(), annot=True, fmt='.2f')"
   ]
  },
  {
   "cell_type": "code",
   "execution_count": 12,
   "id": "550bf7ae-51dd-443a-a51a-75d6ec108e97",
   "metadata": {},
   "outputs": [],
   "source": [
    "df_feats.drop(['loudness'], axis=1, inplace=True)\n",
    "df_total.drop(['loudness'], axis=1, inplace=True)"
   ]
  },
  {
   "cell_type": "markdown",
   "id": "3e8b12e5-26c3-4aa8-b049-44ac14c11b7b",
   "metadata": {},
   "source": [
    "##### The code below finds silhouette scores and elbows for clusters based on each pair of features. Clustering on 3+ features is not done simply because in testing, no clusters using 5+ features performed well. Clusters using 3 or 4 features occasionally performed decently, but were always outperformed by clusters using only 2. Often times, clusters from 3 or 4 features were outperformed by a combination of only two of the features they contained.\n",
    "\n",
    "##### Often, the combinations that yielded the highest silhouette score only outputted two playlists. The playlists I tested on had enough variety that I felt this was not enough clusters. Splitting music in half along two features, while accurate to those two features, actively covers up some of the actual differences in the music. As such, I created the 'total' column by multiplying each combination's score and elbow. This gives some weight to the silhouette score while also rewarding clustering algorithms that found more ways to split the inputted playlist."
   ]
  },
  {
   "cell_type": "code",
   "execution_count": 13,
   "id": "dd031761-017c-4506-be0d-94a2a7a7ce89",
   "metadata": {
    "tags": []
   },
   "outputs": [],
   "source": [
    "n_clusters = [2, 3, 4, 5, 6]\n",
    "cols = list(df_feats)\n",
    "score, value = [], []\n",
    "combos = list(combinations(cols, 2))\n",
    "for combo in combos:\n",
    "    subset = df_feats[list(combo)].values\n",
    "    scores = []\n",
    "    for n in n_clusters:\n",
    "        model = KMeans(n_clusters=n)\n",
    "        clusters = model.fit_predict(subset)\n",
    "        scores.append(silhouette_score(subset, clusters))\n",
    "    score.append(max(scores))\n",
    "    value.append(scores.index(max(scores))+min(n_clusters))\n",
    "\n",
    "performance = {'max_score': score, 'clusters': value}\n",
    "df_combos = pd.DataFrame(combos, columns=['feat_1', 'feat_2']).join(pd.DataFrame(performance))\n",
    "df_combos['total'] = df_combos.apply(lambda combo: combo['max_score'] * combo['clusters'], axis=1)"
   ]
  },
  {
   "cell_type": "markdown",
   "id": "d31a0ec6-06e4-41d9-9db7-e9ca89c1e2cf",
   "metadata": {
    "tags": []
   },
   "source": [
    "##### Below I sort clusters by their 'total' scores. This is simply to get a sense of which clusters are performing well and to aid with choosing feature combinations to try in [app.py](app.py)."
   ]
  },
  {
   "cell_type": "code",
   "execution_count": 14,
   "id": "ad2a5b6e-0190-47e9-8c47-5d30a22b821b",
   "metadata": {},
   "outputs": [
    {
     "data": {
      "text/html": [
       "<div>\n",
       "<style scoped>\n",
       "    .dataframe tbody tr th:only-of-type {\n",
       "        vertical-align: middle;\n",
       "    }\n",
       "\n",
       "    .dataframe tbody tr th {\n",
       "        vertical-align: top;\n",
       "    }\n",
       "\n",
       "    .dataframe thead th {\n",
       "        text-align: right;\n",
       "    }\n",
       "</style>\n",
       "<table border=\"1\" class=\"dataframe\">\n",
       "  <thead>\n",
       "    <tr style=\"text-align: right;\">\n",
       "      <th></th>\n",
       "      <th>feat_1</th>\n",
       "      <th>feat_2</th>\n",
       "      <th>max_score</th>\n",
       "      <th>clusters</th>\n",
       "      <th>total</th>\n",
       "    </tr>\n",
       "  </thead>\n",
       "  <tbody>\n",
       "    <tr>\n",
       "      <th>1</th>\n",
       "      <td>tempo</td>\n",
       "      <td>energy</td>\n",
       "      <td>0.374815</td>\n",
       "      <td>4</td>\n",
       "      <td>1.499259</td>\n",
       "    </tr>\n",
       "    <tr>\n",
       "      <th>0</th>\n",
       "      <td>tempo</td>\n",
       "      <td>danceability</td>\n",
       "      <td>0.409438</td>\n",
       "      <td>3</td>\n",
       "      <td>1.228314</td>\n",
       "    </tr>\n",
       "    <tr>\n",
       "      <th>3</th>\n",
       "      <td>danceability</td>\n",
       "      <td>energy</td>\n",
       "      <td>0.381290</td>\n",
       "      <td>3</td>\n",
       "      <td>1.143871</td>\n",
       "    </tr>\n",
       "    <tr>\n",
       "      <th>2</th>\n",
       "      <td>tempo</td>\n",
       "      <td>valence</td>\n",
       "      <td>0.375527</td>\n",
       "      <td>3</td>\n",
       "      <td>1.126580</td>\n",
       "    </tr>\n",
       "    <tr>\n",
       "      <th>5</th>\n",
       "      <td>energy</td>\n",
       "      <td>valence</td>\n",
       "      <td>0.396544</td>\n",
       "      <td>2</td>\n",
       "      <td>0.793089</td>\n",
       "    </tr>\n",
       "    <tr>\n",
       "      <th>4</th>\n",
       "      <td>danceability</td>\n",
       "      <td>valence</td>\n",
       "      <td>0.393036</td>\n",
       "      <td>2</td>\n",
       "      <td>0.786072</td>\n",
       "    </tr>\n",
       "  </tbody>\n",
       "</table>\n",
       "</div>"
      ],
      "text/plain": [
       "         feat_1        feat_2  max_score  clusters     total\n",
       "1         tempo        energy   0.374815         4  1.499259\n",
       "0         tempo  danceability   0.409438         3  1.228314\n",
       "3  danceability        energy   0.381290         3  1.143871\n",
       "2         tempo       valence   0.375527         3  1.126580\n",
       "5        energy       valence   0.396544         2  0.793089\n",
       "4  danceability       valence   0.393036         2  0.786072"
      ]
     },
     "execution_count": 14,
     "metadata": {},
     "output_type": "execute_result"
    }
   ],
   "source": [
    "df_combos.sort_values(by=['total'], ascending=False)"
   ]
  },
  {
   "cell_type": "markdown",
   "id": "61c5e0b9-3c86-4f9d-8818-627a3597cc68",
   "metadata": {
    "tags": []
   },
   "source": [
    "# 5. Playlist creation"
   ]
  },
  {
   "cell_type": "markdown",
   "id": "f9f6dee5-fb03-40d5-897a-180ad4e27225",
   "metadata": {},
   "source": [
    "##### I extract the features with the highest 'total' score below and use those to create clusters, and then playlists."
   ]
  },
  {
   "cell_type": "code",
   "execution_count": 15,
   "id": "a84cffc7-f610-47cf-b5e0-911316b64341",
   "metadata": {
    "tags": []
   },
   "outputs": [],
   "source": [
    "feat_1 = df_combos[df_combos['total']==df_combos['total'].max()]['feat_1'].values[0]\n",
    "feat_2 = df_combos[df_combos['total']==df_combos['total'].max()]['feat_2'].values[0]\n",
    "num_clusts = df_combos[df_combos['total']==df_combos['total'].max()]['clusters'].values[0]\n",
    "\n",
    "df_to_cluster = df_total[['id', feat_1, feat_2]]\n",
    "model = KMeans(n_clusters=num_clusts).fit(df_to_cluster[[feat_1, feat_2]].values)\n",
    "clusters = {'cluster': model.labels_}\n",
    "df_clustered = df_to_cluster.join(pd.DataFrame(clusters))"
   ]
  },
  {
   "cell_type": "code",
   "execution_count": 16,
   "id": "ce0ad320-5224-46bf-8d5f-2a98f9887a8e",
   "metadata": {},
   "outputs": [],
   "source": [
    "for i in range(num_clusts):\n",
    "    songs = list(df_clustered['id'][df_clustered['cluster'] == i])\n",
    "    name = f'created_playlist_{i}'\n",
    "    current_playlists = []\n",
    "    offset = 0\n",
    "    while True:\n",
    "        playlists = sp.current_user_playlists(limit=50, offset=offset)['items']\n",
    "        if len(playlists) == 0:\n",
    "            break\n",
    "        current_playlists += [d['name'] for d in playlists]\n",
    "        offset += len(playlists)\n",
    "    if name in current_playlists:\n",
    "        continue\n",
    "    sp.user_playlist_create(user=user, name=name)\n",
    "    new = sp.current_user_playlists(limit=1)['items'][0]['uri']\n",
    "    if len(songs) > 100:\n",
    "        j = 0\n",
    "        while j < (len(songs)//100 + 1):\n",
    "            sub_songs = songs[100*j:100*(1+j)]\n",
    "            sp.user_playlist_add_tracks(user=user, playlist_id=new, tracks=sub_songs)\n",
    "            j += 1\n",
    "        sp.user_playlist_add_tracks(user=user, playlist_id=new, tracks=songs[-(len(songs)%100):])\n",
    "    else:\n",
    "        sp.user_playlist_add_tracks(user=user, playlist_id=new, tracks=songs)"
   ]
  }
 ],
 "metadata": {
  "kernelspec": {
   "display_name": "Python 3 (ipykernel)",
   "language": "python",
   "name": "python3"
  },
  "language_info": {
   "codemirror_mode": {
    "name": "ipython",
    "version": 3
   },
   "file_extension": ".py",
   "mimetype": "text/x-python",
   "name": "python",
   "nbconvert_exporter": "python",
   "pygments_lexer": "ipython3",
   "version": "3.9.13"
  }
 },
 "nbformat": 4,
 "nbformat_minor": 5
}
