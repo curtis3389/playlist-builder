{
 "cells": [
  {
   "cell_type": "code",
   "execution_count": 2,
   "id": "3928a5de-bb5a-491c-a666-33062811aa5e",
   "metadata": {},
   "outputs": [],
   "source": [
    "import spotipy, pandas\n",
    "from spotipy.oauth2 import SpotifyOAuth"
   ]
  },
  {
   "cell_type": "code",
   "execution_count": 8,
   "id": "583d5694-1765-4f1e-bbc9-76417ec3305d",
   "metadata": {
    "tags": []
   },
   "outputs": [],
   "source": [
    "scope = 'playlist-modify-public playlist-modify-private'\n",
    "red_url='http://localhost'\n",
    "\n",
    "sp = spotipy.Spotify(auth_manager=SpotifyOAuth(redirect_uri=red_url,scope=scope))"
   ]
  }
 ],
 "metadata": {
  "kernelspec": {
   "display_name": "Python 3 (ipykernel)",
   "language": "python",
   "name": "python3"
  },
  "language_info": {
   "codemirror_mode": {
    "name": "ipython",
    "version": 3
   },
   "file_extension": ".py",
   "mimetype": "text/x-python",
   "name": "python",
   "nbconvert_exporter": "python",
   "pygments_lexer": "ipython3",
   "version": "3.9.13"
  }
 },
 "nbformat": 4,
 "nbformat_minor": 5
}
