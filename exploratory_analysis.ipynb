{
 "cells": [
  {
   "cell_type": "code",
   "execution_count": 36,
   "id": "3928a5de-bb5a-491c-a666-33062811aa5e",
   "metadata": {},
   "outputs": [],
   "source": [
    "import spotipy, pandas as pd, json, numpy as np\n",
    "from spotipy.oauth2 import SpotifyOAuth\n",
    "from sklearn import preprocessing as pre\n",
    "from sklearn.cluster import KMeans\n",
    "from sklearn.metrics import silhouette_samples, silhouette_score"
   ]
  },
  {
   "cell_type": "code",
   "execution_count": 37,
   "id": "583d5694-1765-4f1e-bbc9-76417ec3305d",
   "metadata": {
    "tags": []
   },
   "outputs": [],
   "source": [
    "scope = 'playlist-modify-public playlist-modify-private'\n",
    "red_url = 'http://localhost:8080'\n",
    "playlist = 'https://open.spotify.com/playlist/0zZlkqz8ZRPsZd0kARwia9?si=a6ee70de66014a4c'\n",
    "\n",
    "sp = spotipy.Spotify(auth_manager=SpotifyOAuth(redirect_uri=red_url,scope=scope))"
   ]
  },
  {
   "cell_type": "code",
   "execution_count": 38,
   "id": "f1c57877-892b-47f7-be8c-cd9fcab95382",
   "metadata": {
    "tags": []
   },
   "outputs": [],
   "source": [
    "offset = 0\n",
    "song_ids = []\n",
    "while True:\n",
    "    songs = sp.playlist_tracks(playlist_id=playlist, offset=offset, fields='items.track.id', limit=100)['items']\n",
    "    if len(songs) == 0:\n",
    "        break\n",
    "    song_ids += [d['track']['id'] for d in songs]\n",
    "    offset = offset + len(songs)"
   ]
  },
  {
   "cell_type": "code",
   "execution_count": 39,
   "id": "b501d9fd-7b3d-4b55-8281-f30b4a4ec425",
   "metadata": {
    "tags": []
   },
   "outputs": [],
   "source": [
    "offset = 0\n",
    "limit = 50\n",
    "song_feats = []\n",
    "while offset < len(song_ids):\n",
    "    song_feats += sp.audio_features(tracks=song_ids[offset: offset + limit])\n",
    "    offset += limit"
   ]
  },
  {
   "cell_type": "code",
   "execution_count": 40,
   "id": "eb1b09c1-42d1-4e3e-999b-90fbe841aa75",
   "metadata": {
    "tags": []
   },
   "outputs": [],
   "source": [
    "# aud_anal = []\n",
    "# aud_secs = []\n",
    "# j = 0\n",
    "# for song in song_ids:\n",
    "#     track = sp.audio_analysis(song_ids[j])\n",
    "#     dur = track['track']['duration']\n",
    "#     secs = len(track['sections'])\n",
    "#     aud_anal.append(track)\n",
    "#     aud_secs.append(60*secs/dur)\n",
    "#     j += 1"
   ]
  },
  {
   "cell_type": "code",
   "execution_count": 41,
   "id": "bc554d43-229a-46f2-956d-54f642910ea2",
   "metadata": {},
   "outputs": [],
   "source": [
    "df_feats = pd.DataFrame(song_feats).drop(['type', 'uri', 'track_href', 'analysis_url', 'duration_ms'], axis=1)\n",
    "# df_aud = pd.DataFrame(aud_anal)[['tempo_confidence','time_signature_confidence','key_confidence','mode_confidence']]\n",
    "# df_secs = pd.DataFrame({'secs/min': aud_secs})"
   ]
  },
  {
   "cell_type": "code",
   "execution_count": 42,
   "id": "d73a49e0-2875-4af8-ad42-d2442cbe4d02",
   "metadata": {
    "tags": []
   },
   "outputs": [],
   "source": [
    "# df_dummies = pd.get_dummies(df_feats[['key', 'time_signature']], columns=['key', 'time_signature'], drop_first=True)"
   ]
  },
  {
   "cell_type": "code",
   "execution_count": 43,
   "id": "acb27b7a-5096-40c5-ad91-9218de9114f3",
   "metadata": {},
   "outputs": [],
   "source": [
    "to_norm = df_feats[['loudness', 'tempo', 'speechiness', 'acousticness', 'instrumentalness', 'liveness']].values\n",
    "scaler = pre.MinMaxScaler()\n",
    "normed = scaler.fit_transform(to_norm)\n",
    "df_normed = pd.DataFrame(normed).rename(columns={0: 'loudness_normed', 1: 'tempo_normed', 2: 'speechiness', 3: 'acousticness', 4: 'instrumentalness', 5: 'liveness'})"
   ]
  },
  {
   "cell_type": "code",
   "execution_count": 44,
   "id": "35590492-f7da-442c-b1ae-7c426fd88c91",
   "metadata": {},
   "outputs": [],
   "source": [
    "df_feats.drop(['loudness', 'tempo', 'speechiness', 'acousticness', 'instrumentalness', 'liveness'], axis=1, inplace=True)"
   ]
  },
  {
   "cell_type": "code",
   "execution_count": 45,
   "id": "389769e1-feed-4b89-a16d-8f1839260e09",
   "metadata": {},
   "outputs": [],
   "source": [
    "df_feats = df_feats.join([df_dummies, df_normed]).set_index('id')"
   ]
  },
  {
   "cell_type": "code",
   "execution_count": 46,
   "id": "b871e32d-1b2f-4088-8a2b-48f6b82daf01",
   "metadata": {},
   "outputs": [],
   "source": [
    "n_clusters = [2, 3, 4, 5, 6]\n",
    "cluster_scores = []\n",
    "for n in n_clusters:\n",
    "    clusters = KMeans(n_clusters=n)\n",
    "    labs = clusters.fit_predict(df_feats.values)\n",
    "    sil_avg = silhouette_score(df_feats.values, labs)\n",
    "    cluster_scores.append(sil_avg)"
   ]
  },
  {
   "cell_type": "code",
   "execution_count": 47,
   "id": "a2bcd5e4-8c28-4f7e-a41e-be6d706fa227",
   "metadata": {},
   "outputs": [
    {
     "data": {
      "text/plain": [
       "[0.5793994120705278,\n",
       " 0.5036591691767155,\n",
       " 0.4620405935605376,\n",
       " 0.4305886053735114,\n",
       " 0.34351851416058976]"
      ]
     },
     "execution_count": 47,
     "metadata": {},
     "output_type": "execute_result"
    }
   ],
   "source": [
    "cluster_scores"
   ]
  }
 ],
 "metadata": {
  "kernelspec": {
   "display_name": "Python 3 (ipykernel)",
   "language": "python",
   "name": "python3"
  },
  "language_info": {
   "codemirror_mode": {
    "name": "ipython",
    "version": 3
   },
   "file_extension": ".py",
   "mimetype": "text/x-python",
   "name": "python",
   "nbconvert_exporter": "python",
   "pygments_lexer": "ipython3",
   "version": "3.9.13"
  }
 },
 "nbformat": 4,
 "nbformat_minor": 5
}
