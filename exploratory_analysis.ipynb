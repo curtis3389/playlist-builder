{
 "cells": [
  {
   "cell_type": "code",
   "execution_count": 1,
   "id": "3928a5de-bb5a-491c-a666-33062811aa5e",
   "metadata": {},
   "outputs": [],
   "source": [
    "import spotipy, pandas as pd, json\n",
    "from spotipy.oauth2 import SpotifyOAuth"
   ]
  },
  {
   "cell_type": "code",
   "execution_count": 2,
   "id": "583d5694-1765-4f1e-bbc9-76417ec3305d",
   "metadata": {
    "tags": []
   },
   "outputs": [],
   "source": [
    "scope = 'playlist-modify-public playlist-modify-private'\n",
    "red_url = 'http://localhost:8080'\n",
    "\n",
    "sp = spotipy.Spotify(auth_manager=SpotifyOAuth(redirect_uri=red_url,scope=scope))"
   ]
  },
  {
   "cell_type": "code",
   "execution_count": 3,
   "id": "f1c57877-892b-47f7-be8c-cd9fcab95382",
   "metadata": {
    "tags": []
   },
   "outputs": [],
   "source": [
    "songs = sp.playlist_tracks(playlist_id='https://open.spotify.com/playlist/37i9dQZEVXcD0rEV1cHpue?si=85e21e56fd774936', limit=100)"
   ]
  },
  {
   "cell_type": "code",
   "execution_count": 4,
   "id": "d9ca6fb0-b95b-4ffa-8184-4806bd98610d",
   "metadata": {
    "tags": []
   },
   "outputs": [],
   "source": [
    "song_ids = []\n",
    "i = 0\n",
    "for song in songs['items']:\n",
    "    song_ids.append(songs['items'][i]['track']['id'])\n",
    "    i += 1"
   ]
  },
  {
   "cell_type": "code",
   "execution_count": 5,
   "id": "b501d9fd-7b3d-4b55-8281-f30b4a4ec425",
   "metadata": {
    "tags": []
   },
   "outputs": [],
   "source": [
    "song_feats = sp.audio_features(tracks=song_ids)"
   ]
  },
  {
   "cell_type": "code",
   "execution_count": 6,
   "id": "eb1b09c1-42d1-4e3e-999b-90fbe841aa75",
   "metadata": {
    "tags": []
   },
   "outputs": [],
   "source": [
    "aud_anal = []\n",
    "aud_secs = []\n",
    "j = 0\n",
    "for song in song_ids:\n",
    "    track = sp.audio_analysis(song_ids[j])['track']\n",
    "    dur = track['duration']\n",
    "    secs = len(sp.audio_analysis(song_ids[j])['sections'])\n",
    "    aud_anal.append(track)\n",
    "    aud_secs.append(60*secs/dur)\n",
    "    j += 1"
   ]
  },
  {
   "cell_type": "code",
   "execution_count": 7,
   "id": "bc554d43-229a-46f2-956d-54f642910ea2",
   "metadata": {},
   "outputs": [],
   "source": [
    "df_ids = pd.DataFrame(song_ids)\n",
    "df_feats = pd.DataFrame(song_feats).drop(['speechiness', 'acousticness', 'instrumentalness', 'liveness', 'type', 'uri', 'track_href', 'analysis_url', 'duration_ms'], axis=1)\n",
    "df_aud = pd.DataFrame(aud_anal)[['tempo_confidence','time_signature_confidence','key_confidence','mode_confidence']]\n",
    "df_secs = pd.DataFrame({'secs/min': aud_secs})"
   ]
  },
  {
   "cell_type": "code",
   "execution_count": 8,
   "id": "8c665b2f-5194-4992-a064-dd08631b6254",
   "metadata": {},
   "outputs": [],
   "source": [
    "df_tot = df_feats.join([df_aud, df_secs]).set_index('id')"
   ]
  }
 ],
 "metadata": {
  "kernelspec": {
   "display_name": "Python 3 (ipykernel)",
   "language": "python",
   "name": "python3"
  },
  "language_info": {
   "codemirror_mode": {
    "name": "ipython",
    "version": 3
   },
   "file_extension": ".py",
   "mimetype": "text/x-python",
   "name": "python",
   "nbconvert_exporter": "python",
   "pygments_lexer": "ipython3",
   "version": "3.9.13"
  }
 },
 "nbformat": 4,
 "nbformat_minor": 5
}
